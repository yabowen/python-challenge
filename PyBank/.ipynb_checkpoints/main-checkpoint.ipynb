{
 "cells": [
  {
   "cell_type": "code",
   "execution_count": 261,
   "metadata": {},
   "outputs": [
    {
     "name": "stdout",
     "output_type": "stream",
     "text": [
      "\n",
      "Financial Analysis\n",
      "-------------------------------------\n",
      "Total Months: 86\n",
      "Total: $38382578\n",
      "Average Change: $-2315.12\n",
      "Greatest Increase In Profits: 16-Nov ($795914)\n",
      "Greatest Decrease in Profits: 16-Jul ($-1163797)\n",
      "\n"
     ]
    }
   ],
   "source": [
    "import os\n",
    "import csv\n",
    "file_load = os.path.join(\"..\",\"bowenya\",\"python-challenge\",\"PyBank\",\"budget_data.csv\")\n",
    "file_output = os.path.join(\"..\",\"bowenya\",\"python-challenge\",\"PyBank\",\"financial_analysis.txt\")\n",
    "\n",
    "monthcount = 0\n",
    "total = 0\n",
    "prevdata = 0\n",
    "change = 0\n",
    "change_l = []\n",
    "maxinc = [\"\",0]\n",
    "maxdec = [\"\",999999999]\n",
    "avgchange = 0\n",
    "\n",
    "with open(csvpath, newline='') as budgetdata:\n",
    "    reader = csv.reader(budgetdata, delimiter=\",\")\n",
    "    header = next(budgetdata)\n",
    "    for row in reader:\n",
    "        monthcount += 1\n",
    "        total += int(row[1])\n",
    "        change = int(row[1]) - prevdata\n",
    "        prevdata = int(row[1])\n",
    "        change_l = change_l + [change]\n",
    "        if change > int(maxinc[1]):\n",
    "            maxinc = [row[0],row[1]]\n",
    "        elif change < int(maxdec[1]):\n",
    "            maxdec = [row[0],row[1]]\n",
    "\n",
    "change_l.pop(0)\n",
    "avgchange = round(sum(change_l)/len(change_l),2)\n",
    "        \n",
    "output = (\n",
    "    \"\\nFinancial Analysis\\n\"\n",
    "    \"-------------------------------------\\n\"\n",
    "    f\"Total Months: {monthcount}\\n\"\n",
    "    f\"Total: ${total}\\n\"\n",
    "    f\"Average Change: ${avgchange}\\n\"\n",
    "    f\"Greatest Increase In Profits: {maxinc[0]} (${maxinc[1]})\\n\"\n",
    "    f\"Greatest Decrease in Profits: {maxdec[0]} (${maxdec[1]})\\n\")\n",
    "\n",
    "print(output)\n",
    "\n",
    "with open(file_output, 'w') as txt_file:\n",
    "    txt_file.write(output)\n"
   ]
  },
  {
   "cell_type": "code",
   "execution_count": null,
   "metadata": {},
   "outputs": [],
   "source": []
  }
 ],
 "metadata": {
  "kernelspec": {
   "display_name": "Python 3",
   "language": "python",
   "name": "python3"
  },
  "language_info": {
   "codemirror_mode": {
    "name": "ipython",
    "version": 3
   },
   "file_extension": ".py",
   "mimetype": "text/x-python",
   "name": "python",
   "nbconvert_exporter": "python",
   "pygments_lexer": "ipython3",
   "version": "3.7.3"
  }
 },
 "nbformat": 4,
 "nbformat_minor": 4
}
